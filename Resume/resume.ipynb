{
  "nbformat": 4,
  "nbformat_minor": 0,
  "metadata": {
    "colab": {
      "provenance": []
    },
    "kernelspec": {
      "name": "python3",
      "display_name": "Python 3"
    },
    "language_info": {
      "name": "python"
    }
  },
  "cells": [
    {
      "cell_type": "code",
      "execution_count": 2,
      "metadata": {
        "colab": {
          "base_uri": "https://localhost:8080/"
        },
        "id": "66dtFWsLMhGT",
        "outputId": "072f2a80-727b-4e52-8b97-0f43738490ed"
      },
      "outputs": [
        {
          "output_type": "stream",
          "name": "stdout",
          "text": [
            "Collecting opendatasets\n",
            "  Downloading opendatasets-0.1.22-py3-none-any.whl.metadata (9.2 kB)\n",
            "Requirement already satisfied: tqdm in /usr/local/lib/python3.11/dist-packages (from opendatasets) (4.67.1)\n",
            "Requirement already satisfied: kaggle in /usr/local/lib/python3.11/dist-packages (from opendatasets) (1.7.4.2)\n",
            "Requirement already satisfied: click in /usr/local/lib/python3.11/dist-packages (from opendatasets) (8.1.8)\n",
            "Requirement already satisfied: bleach in /usr/local/lib/python3.11/dist-packages (from kaggle->opendatasets) (6.2.0)\n",
            "Requirement already satisfied: certifi>=14.05.14 in /usr/local/lib/python3.11/dist-packages (from kaggle->opendatasets) (2025.1.31)\n",
            "Requirement already satisfied: charset-normalizer in /usr/local/lib/python3.11/dist-packages (from kaggle->opendatasets) (3.4.1)\n",
            "Requirement already satisfied: idna in /usr/local/lib/python3.11/dist-packages (from kaggle->opendatasets) (3.10)\n",
            "Requirement already satisfied: protobuf in /usr/local/lib/python3.11/dist-packages (from kaggle->opendatasets) (5.29.4)\n",
            "Requirement already satisfied: python-dateutil>=2.5.3 in /usr/local/lib/python3.11/dist-packages (from kaggle->opendatasets) (2.8.2)\n",
            "Requirement already satisfied: python-slugify in /usr/local/lib/python3.11/dist-packages (from kaggle->opendatasets) (8.0.4)\n",
            "Requirement already satisfied: requests in /usr/local/lib/python3.11/dist-packages (from kaggle->opendatasets) (2.32.3)\n",
            "Requirement already satisfied: setuptools>=21.0.0 in /usr/local/lib/python3.11/dist-packages (from kaggle->opendatasets) (75.2.0)\n",
            "Requirement already satisfied: six>=1.10 in /usr/local/lib/python3.11/dist-packages (from kaggle->opendatasets) (1.17.0)\n",
            "Requirement already satisfied: text-unidecode in /usr/local/lib/python3.11/dist-packages (from kaggle->opendatasets) (1.3)\n",
            "Requirement already satisfied: urllib3>=1.15.1 in /usr/local/lib/python3.11/dist-packages (from kaggle->opendatasets) (2.3.0)\n",
            "Requirement already satisfied: webencodings in /usr/local/lib/python3.11/dist-packages (from kaggle->opendatasets) (0.5.1)\n",
            "Downloading opendatasets-0.1.22-py3-none-any.whl (15 kB)\n",
            "Installing collected packages: opendatasets\n",
            "Successfully installed opendatasets-0.1.22\n"
          ]
        }
      ],
      "source": [
        "!pip install opendatasets --upgrade"
      ]
    },
    {
      "cell_type": "code",
      "source": [
        "import opendatasets as od\n",
        "\n",
        "# Upload kaggle.json if running in Google Colab\n",
        "from google.colab import files\n",
        "files.upload()  # This will prompt you to upload kaggle.json"
      ],
      "metadata": {
        "colab": {
          "base_uri": "https://localhost:8080/",
          "height": 86
        },
        "id": "d1jcKbFuMtvC",
        "outputId": "846073b9-15d0-476d-ba23-f54e3817e2e5"
      },
      "execution_count": 3,
      "outputs": [
        {
          "output_type": "display_data",
          "data": {
            "text/plain": [
              "<IPython.core.display.HTML object>"
            ],
            "text/html": [
              "\n",
              "     <input type=\"file\" id=\"files-5258314e-b579-43cc-8ad3-1221d73cbbb8\" name=\"files[]\" multiple disabled\n",
              "        style=\"border:none\" />\n",
              "     <output id=\"result-5258314e-b579-43cc-8ad3-1221d73cbbb8\">\n",
              "      Upload widget is only available when the cell has been executed in the\n",
              "      current browser session. Please rerun this cell to enable.\n",
              "      </output>\n",
              "      <script>// Copyright 2017 Google LLC\n",
              "//\n",
              "// Licensed under the Apache License, Version 2.0 (the \"License\");\n",
              "// you may not use this file except in compliance with the License.\n",
              "// You may obtain a copy of the License at\n",
              "//\n",
              "//      http://www.apache.org/licenses/LICENSE-2.0\n",
              "//\n",
              "// Unless required by applicable law or agreed to in writing, software\n",
              "// distributed under the License is distributed on an \"AS IS\" BASIS,\n",
              "// WITHOUT WARRANTIES OR CONDITIONS OF ANY KIND, either express or implied.\n",
              "// See the License for the specific language governing permissions and\n",
              "// limitations under the License.\n",
              "\n",
              "/**\n",
              " * @fileoverview Helpers for google.colab Python module.\n",
              " */\n",
              "(function(scope) {\n",
              "function span(text, styleAttributes = {}) {\n",
              "  const element = document.createElement('span');\n",
              "  element.textContent = text;\n",
              "  for (const key of Object.keys(styleAttributes)) {\n",
              "    element.style[key] = styleAttributes[key];\n",
              "  }\n",
              "  return element;\n",
              "}\n",
              "\n",
              "// Max number of bytes which will be uploaded at a time.\n",
              "const MAX_PAYLOAD_SIZE = 100 * 1024;\n",
              "\n",
              "function _uploadFiles(inputId, outputId) {\n",
              "  const steps = uploadFilesStep(inputId, outputId);\n",
              "  const outputElement = document.getElementById(outputId);\n",
              "  // Cache steps on the outputElement to make it available for the next call\n",
              "  // to uploadFilesContinue from Python.\n",
              "  outputElement.steps = steps;\n",
              "\n",
              "  return _uploadFilesContinue(outputId);\n",
              "}\n",
              "\n",
              "// This is roughly an async generator (not supported in the browser yet),\n",
              "// where there are multiple asynchronous steps and the Python side is going\n",
              "// to poll for completion of each step.\n",
              "// This uses a Promise to block the python side on completion of each step,\n",
              "// then passes the result of the previous step as the input to the next step.\n",
              "function _uploadFilesContinue(outputId) {\n",
              "  const outputElement = document.getElementById(outputId);\n",
              "  const steps = outputElement.steps;\n",
              "\n",
              "  const next = steps.next(outputElement.lastPromiseValue);\n",
              "  return Promise.resolve(next.value.promise).then((value) => {\n",
              "    // Cache the last promise value to make it available to the next\n",
              "    // step of the generator.\n",
              "    outputElement.lastPromiseValue = value;\n",
              "    return next.value.response;\n",
              "  });\n",
              "}\n",
              "\n",
              "/**\n",
              " * Generator function which is called between each async step of the upload\n",
              " * process.\n",
              " * @param {string} inputId Element ID of the input file picker element.\n",
              " * @param {string} outputId Element ID of the output display.\n",
              " * @return {!Iterable<!Object>} Iterable of next steps.\n",
              " */\n",
              "function* uploadFilesStep(inputId, outputId) {\n",
              "  const inputElement = document.getElementById(inputId);\n",
              "  inputElement.disabled = false;\n",
              "\n",
              "  const outputElement = document.getElementById(outputId);\n",
              "  outputElement.innerHTML = '';\n",
              "\n",
              "  const pickedPromise = new Promise((resolve) => {\n",
              "    inputElement.addEventListener('change', (e) => {\n",
              "      resolve(e.target.files);\n",
              "    });\n",
              "  });\n",
              "\n",
              "  const cancel = document.createElement('button');\n",
              "  inputElement.parentElement.appendChild(cancel);\n",
              "  cancel.textContent = 'Cancel upload';\n",
              "  const cancelPromise = new Promise((resolve) => {\n",
              "    cancel.onclick = () => {\n",
              "      resolve(null);\n",
              "    };\n",
              "  });\n",
              "\n",
              "  // Wait for the user to pick the files.\n",
              "  const files = yield {\n",
              "    promise: Promise.race([pickedPromise, cancelPromise]),\n",
              "    response: {\n",
              "      action: 'starting',\n",
              "    }\n",
              "  };\n",
              "\n",
              "  cancel.remove();\n",
              "\n",
              "  // Disable the input element since further picks are not allowed.\n",
              "  inputElement.disabled = true;\n",
              "\n",
              "  if (!files) {\n",
              "    return {\n",
              "      response: {\n",
              "        action: 'complete',\n",
              "      }\n",
              "    };\n",
              "  }\n",
              "\n",
              "  for (const file of files) {\n",
              "    const li = document.createElement('li');\n",
              "    li.append(span(file.name, {fontWeight: 'bold'}));\n",
              "    li.append(span(\n",
              "        `(${file.type || 'n/a'}) - ${file.size} bytes, ` +\n",
              "        `last modified: ${\n",
              "            file.lastModifiedDate ? file.lastModifiedDate.toLocaleDateString() :\n",
              "                                    'n/a'} - `));\n",
              "    const percent = span('0% done');\n",
              "    li.appendChild(percent);\n",
              "\n",
              "    outputElement.appendChild(li);\n",
              "\n",
              "    const fileDataPromise = new Promise((resolve) => {\n",
              "      const reader = new FileReader();\n",
              "      reader.onload = (e) => {\n",
              "        resolve(e.target.result);\n",
              "      };\n",
              "      reader.readAsArrayBuffer(file);\n",
              "    });\n",
              "    // Wait for the data to be ready.\n",
              "    let fileData = yield {\n",
              "      promise: fileDataPromise,\n",
              "      response: {\n",
              "        action: 'continue',\n",
              "      }\n",
              "    };\n",
              "\n",
              "    // Use a chunked sending to avoid message size limits. See b/62115660.\n",
              "    let position = 0;\n",
              "    do {\n",
              "      const length = Math.min(fileData.byteLength - position, MAX_PAYLOAD_SIZE);\n",
              "      const chunk = new Uint8Array(fileData, position, length);\n",
              "      position += length;\n",
              "\n",
              "      const base64 = btoa(String.fromCharCode.apply(null, chunk));\n",
              "      yield {\n",
              "        response: {\n",
              "          action: 'append',\n",
              "          file: file.name,\n",
              "          data: base64,\n",
              "        },\n",
              "      };\n",
              "\n",
              "      let percentDone = fileData.byteLength === 0 ?\n",
              "          100 :\n",
              "          Math.round((position / fileData.byteLength) * 100);\n",
              "      percent.textContent = `${percentDone}% done`;\n",
              "\n",
              "    } while (position < fileData.byteLength);\n",
              "  }\n",
              "\n",
              "  // All done.\n",
              "  yield {\n",
              "    response: {\n",
              "      action: 'complete',\n",
              "    }\n",
              "  };\n",
              "}\n",
              "\n",
              "scope.google = scope.google || {};\n",
              "scope.google.colab = scope.google.colab || {};\n",
              "scope.google.colab._files = {\n",
              "  _uploadFiles,\n",
              "  _uploadFilesContinue,\n",
              "};\n",
              "})(self);\n",
              "</script> "
            ]
          },
          "metadata": {}
        },
        {
          "output_type": "stream",
          "name": "stdout",
          "text": [
            "Saving kaggle.json to kaggle.json\n"
          ]
        },
        {
          "output_type": "execute_result",
          "data": {
            "text/plain": [
              "{'kaggle.json': b'{\"username\":\"landasrinija2448526\",\"key\":\"ed102a2f02e46949e1e4ee2f89e2d0e3\"}'}"
            ]
          },
          "metadata": {},
          "execution_count": 3
        }
      ]
    },
    {
      "cell_type": "code",
      "source": [
        "https://www.kaggle.com/datasets/snehaanbhawal/resume-dataset"
      ],
      "metadata": {
        "id": "kL1erpbtNJOR"
      },
      "execution_count": null,
      "outputs": []
    },
    {
      "cell_type": "code",
      "source": [
        "\n",
        "dataset_url = \"https://www.kaggle.com/datasets/snehaanbhawal/resume-dataset\"\n",
        "od.download(dataset_url)\n"
      ],
      "metadata": {
        "colab": {
          "base_uri": "https://localhost:8080/"
        },
        "id": "Lt0Py2v9NJvV",
        "outputId": "a84f21a3-6d75-4f64-ca24-ca921a051775"
      },
      "execution_count": 4,
      "outputs": [
        {
          "output_type": "stream",
          "name": "stdout",
          "text": [
            "Dataset URL: https://www.kaggle.com/datasets/snehaanbhawal/resume-dataset\n"
          ]
        }
      ]
    },
    {
      "cell_type": "code",
      "source": [
        "import os\n",
        "\n",
        "# Replace with the name of the folder you downloaded\n",
        "data_path = \"/content/resume-dataset\"\n",
        "os.listdir(data_path)\n"
      ],
      "metadata": {
        "colab": {
          "base_uri": "https://localhost:8080/"
        },
        "id": "hmS1b8NoNUYU",
        "outputId": "78b41b94-1ae0-4614-f26f-5a3b6334cd6a"
      },
      "execution_count": 5,
      "outputs": [
        {
          "output_type": "execute_result",
          "data": {
            "text/plain": [
              "['Resume', 'data']"
            ]
          },
          "metadata": {},
          "execution_count": 5
        }
      ]
    },
    {
      "cell_type": "code",
      "source": [
        "import pandas as pd"
      ],
      "metadata": {
        "id": "xbRluA3uN8ec"
      },
      "execution_count": null,
      "outputs": []
    },
    {
      "cell_type": "code",
      "source": [
        "data=pd.read_csv(\"/content/resume-dataset/Resume/Resume.csv\")"
      ],
      "metadata": {
        "id": "9EXeZuRZNdyL"
      },
      "execution_count": null,
      "outputs": []
    },
    {
      "cell_type": "code",
      "source": [
        "print(data.columns)"
      ],
      "metadata": {
        "colab": {
          "base_uri": "https://localhost:8080/"
        },
        "id": "2fQgAd_xN78P",
        "outputId": "f26e6ff4-0332-4c89-82b3-1cad47357291"
      },
      "execution_count": null,
      "outputs": [
        {
          "output_type": "stream",
          "name": "stdout",
          "text": [
            "Index(['ID', 'Resume_str', 'Resume_html', 'Category'], dtype='object')\n"
          ]
        }
      ]
    },
    {
      "cell_type": "code",
      "source": [
        "print(data.head(10))\n",
        "print(data[ID]=10554236)"
      ],
      "metadata": {
        "colab": {
          "base_uri": "https://localhost:8080/",
          "height": 105
        },
        "id": "6UnFr2zHOC4d",
        "outputId": "f883b1da-9ae3-456c-ecac-4147d1e11f8e"
      },
      "execution_count": null,
      "outputs": [
        {
          "output_type": "error",
          "ename": "SyntaxError",
          "evalue": "expression cannot contain assignment, perhaps you meant \"==\"? (<ipython-input-11-bd73aef56c8f>, line 2)",
          "traceback": [
            "\u001b[0;36m  File \u001b[0;32m\"<ipython-input-11-bd73aef56c8f>\"\u001b[0;36m, line \u001b[0;32m2\u001b[0m\n\u001b[0;31m    print(data[ID]=10554236)\u001b[0m\n\u001b[0m          ^\u001b[0m\n\u001b[0;31mSyntaxError\u001b[0m\u001b[0;31m:\u001b[0m expression cannot contain assignment, perhaps you meant \"==\"?\n"
          ]
        }
      ]
    },
    {
      "cell_type": "code",
      "source": [
        "import os\n",
        "import pandas as pd\n",
        "\n",
        "# Set the dataset path\n",
        "data_path = \"/content/resume-dataset\"\n",
        "\n",
        "# List folders in the main dataset directory\n",
        "print(\"Folders in dataset path:\", os.listdir(data_path))\n",
        "\n",
        "# Load the CSV file\n",
        "csv_path = os.path.join(data_path, \"Resume\", \"Resume.csv\")\n",
        "data = pd.read_csv(csv_path)\n",
        "\n",
        "# Show first 10 rows\n",
        "print(\"First 10 rows:\")\n",
        "print(data.head(10))\n",
        "\n",
        "# Check if ID = 10554236 exists in the dataframe\n",
        "check_id = 10554236\n",
        "if check_id in data['ID'].values:\n",
        "    print(f\"ID {check_id} exists in the dataset.\")\n",
        "    print(data[data['ID'] == check_id])\n",
        "else:\n",
        "    print(f\"ID {check_id} does NOT exist in the dataset.\")\n"
      ],
      "metadata": {
        "colab": {
          "base_uri": "https://localhost:8080/"
        },
        "id": "t3uZWDnJOFsI",
        "outputId": "f31aae9c-08c2-478d-d887-adeded6ac149"
      },
      "execution_count": null,
      "outputs": [
        {
          "output_type": "stream",
          "name": "stdout",
          "text": [
            "Folders in dataset path: ['Resume', 'data']\n",
            "First 10 rows:\n",
            "         ID                                         Resume_str  \\\n",
            "0  16852973           HR ADMINISTRATOR/MARKETING ASSOCIATE\\...   \n",
            "1  22323967           HR SPECIALIST, US HR OPERATIONS      ...   \n",
            "2  33176873           HR DIRECTOR       Summary      Over 2...   \n",
            "3  27018550           HR SPECIALIST       Summary    Dedica...   \n",
            "4  17812897           HR MANAGER         Skill Highlights  ...   \n",
            "5  11592605           HR GENERALIST       Summary     Dedic...   \n",
            "6  25824789           HR MANAGER       Summary    HUMAN RES...   \n",
            "7  15375009           HR MANAGER         Professional Summa...   \n",
            "8  11847784           HR SPECIALIST       Summary    Posses...   \n",
            "9  32896934           HR CLERK       Summary    Translates ...   \n",
            "\n",
            "                                         Resume_html Category  \n",
            "0  <div class=\"fontsize fontface vmargins hmargin...       HR  \n",
            "1  <div class=\"fontsize fontface vmargins hmargin...       HR  \n",
            "2  <div class=\"fontsize fontface vmargins hmargin...       HR  \n",
            "3  <div class=\"fontsize fontface vmargins hmargin...       HR  \n",
            "4  <div class=\"fontsize fontface vmargins hmargin...       HR  \n",
            "5  <div class=\"fontsize fontface vmargins hmargin...       HR  \n",
            "6  <div class=\"fontsize fontface vmargins hmargin...       HR  \n",
            "7  <div class=\"fontsize fontface vmargins hmargin...       HR  \n",
            "8  <div class=\"fontsize fontface vmargins hmargin...       HR  \n",
            "9  <div class=\"fontsize fontface vmargins hmargin...       HR  \n",
            "ID 10554236 exists in the dataset.\n",
            "            ID                                         Resume_str  \\\n",
            "1817  10554236           ACCOUNTANT           Summary     Fina...   \n",
            "\n",
            "                                            Resume_html    Category  \n",
            "1817  <div class=\"fontsize fontface vmargins hmargin...  ACCOUNTANT  \n"
          ]
        }
      ]
    },
    {
      "cell_type": "code",
      "source": [
        "file =pd.read_csv(\"/content/resume-dataset/Resume/Resume.csv\")\n",
        "file['Category'].unique().count()"
      ],
      "metadata": {
        "colab": {
          "base_uri": "https://localhost:8080/",
          "height": 156
        },
        "id": "dT1HXQOzdLJv",
        "outputId": "730a9cd7-ca1d-4c51-d819-808a8ca3d356"
      },
      "execution_count": null,
      "outputs": [
        {
          "output_type": "error",
          "ename": "AttributeError",
          "evalue": "'numpy.ndarray' object has no attribute 'count'",
          "traceback": [
            "\u001b[0;31m---------------------------------------------------------------------------\u001b[0m",
            "\u001b[0;31mAttributeError\u001b[0m                            Traceback (most recent call last)",
            "\u001b[0;32m<ipython-input-45-192dfa99a24d>\u001b[0m in \u001b[0;36m<cell line: 0>\u001b[0;34m()\u001b[0m\n\u001b[1;32m      1\u001b[0m \u001b[0mfile\u001b[0m \u001b[0;34m=\u001b[0m\u001b[0mpd\u001b[0m\u001b[0;34m.\u001b[0m\u001b[0mread_csv\u001b[0m\u001b[0;34m(\u001b[0m\u001b[0;34m\"/content/resume-dataset/Resume/Resume.csv\"\u001b[0m\u001b[0;34m)\u001b[0m\u001b[0;34m\u001b[0m\u001b[0;34m\u001b[0m\u001b[0m\n\u001b[0;32m----> 2\u001b[0;31m \u001b[0mfile\u001b[0m\u001b[0;34m[\u001b[0m\u001b[0;34m'Category'\u001b[0m\u001b[0;34m]\u001b[0m\u001b[0;34m.\u001b[0m\u001b[0munique\u001b[0m\u001b[0;34m(\u001b[0m\u001b[0;34m)\u001b[0m\u001b[0;34m.\u001b[0m\u001b[0mcount\u001b[0m\u001b[0;34m(\u001b[0m\u001b[0;34m)\u001b[0m\u001b[0;34m\u001b[0m\u001b[0;34m\u001b[0m\u001b[0m\n\u001b[0m",
            "\u001b[0;31mAttributeError\u001b[0m: 'numpy.ndarray' object has no attribute 'count'"
          ]
        }
      ]
    },
    {
      "cell_type": "code",
      "source": [
        "file = pd.read_csv(\"/content/resume-dataset/Resume/Resume.csv\")\n",
        "\n",
        "category_counts = file['Category'].value_counts()\n",
        "\n",
        "print(category_counts)"
      ],
      "metadata": {
        "colab": {
          "base_uri": "https://localhost:8080/"
        },
        "id": "S6SaHYgueR0R",
        "outputId": "bf0bd701-d06e-4fbd-b053-df8722968ceb"
      },
      "execution_count": null,
      "outputs": [
        {
          "output_type": "stream",
          "name": "stdout",
          "text": [
            "Category\n",
            "INFORMATION-TECHNOLOGY    120\n",
            "BUSINESS-DEVELOPMENT      120\n",
            "ADVOCATE                  118\n",
            "CHEF                      118\n",
            "ENGINEERING               118\n",
            "ACCOUNTANT                118\n",
            "FINANCE                   118\n",
            "FITNESS                   117\n",
            "AVIATION                  117\n",
            "SALES                     116\n",
            "BANKING                   115\n",
            "HEALTHCARE                115\n",
            "CONSULTANT                115\n",
            "CONSTRUCTION              112\n",
            "PUBLIC-RELATIONS          111\n",
            "HR                        110\n",
            "DESIGNER                  107\n",
            "ARTS                      103\n",
            "TEACHER                   102\n",
            "APPAREL                    97\n",
            "DIGITAL-MEDIA              96\n",
            "AGRICULTURE                63\n",
            "AUTOMOBILE                 36\n",
            "BPO                        22\n",
            "Name: count, dtype: int64\n"
          ]
        }
      ]
    },
    {
      "cell_type": "code",
      "source": [
        "import os\n",
        "import pandas as pd\n",
        "\n",
        "# Define paths\n",
        "base_path = \"/content/resume-dataset\"\n",
        "csv_path = os.path.join(base_path, \"Resume\", \"Resume.csv\")\n",
        "pdf_folder_path = os.path.join(base_path, \"data\", \"data\", \"ACCOUNTANT\")\n",
        "\n",
        "# Load the CSV\n",
        "df = pd.read_csv(csv_path)\n",
        "\n",
        "# List all PDFs in the ACCOUNTANT folder (strip '.pdf' to get IDs)\n",
        "pdf_files = os.listdir(pdf_folder_path)\n",
        "pdf_ids = [int(filename.replace('.pdf', '')) for filename in pdf_files if filename.endswith('.pdf')]\n",
        "\n",
        "print(f\"Total PDFs in ACCOUNTANT folder: {len(pdf_ids)}\")\n"
      ],
      "metadata": {
        "colab": {
          "base_uri": "https://localhost:8080/"
        },
        "id": "jVQDfFt-PRmq",
        "outputId": "38c77fb8-d9fd-4c1c-edc2-0b74b8b30687"
      },
      "execution_count": null,
      "outputs": [
        {
          "output_type": "stream",
          "name": "stdout",
          "text": [
            "Total PDFs in ACCOUNTANT folder: 118\n"
          ]
        }
      ]
    },
    {
      "cell_type": "code",
      "source": [
        "# Filter the dataframe where ID exists in the PDF folder\n",
        "filtered_df = df[df['ID'].isin(pdf_ids) & (df['Category'] == 'ACCOUNTANT')]\n",
        "\n",
        "print(f\"Filtered resumes for ACCOUNTANT: {len(filtered_df)}\")\n",
        "print(filtered_df.head())"
      ],
      "metadata": {
        "colab": {
          "base_uri": "https://localhost:8080/"
        },
        "id": "bg0hJQYWQZzr",
        "outputId": "aca214b4-1a18-4bfe-b9a4-9e3a4598a6f8"
      },
      "execution_count": null,
      "outputs": [
        {
          "output_type": "stream",
          "name": "stdout",
          "text": [
            "Filtered resumes for ACCOUNTANT: 118\n",
            "            ID                                         Resume_str  \\\n",
            "1808  15906625           ACCOUNTANT       Professional Summary...   \n",
            "1809  30361788           ACCOUNTANT       Summary      Innovat...   \n",
            "1810  21031285           ACCOUNTANT         Highlights        ...   \n",
            "1811  25749150           ACCOUNTANT           Professional Sum...   \n",
            "1812  12338274           ACCOUNTANT       Summary    To pursue...   \n",
            "\n",
            "                                            Resume_html    Category  \n",
            "1808  <div class=\"fontsize fontface vmargins hmargin...  ACCOUNTANT  \n",
            "1809  <div class=\"fontsize fontface vmargins hmargin...  ACCOUNTANT  \n",
            "1810  <div class=\"fontsize fontface vmargins hmargin...  ACCOUNTANT  \n",
            "1811  <div class=\"fontsize fontface vmargins hmargin...  ACCOUNTANT  \n",
            "1812  <div class=\"fontsize fontface vmargins hmargin...  ACCOUNTANT  \n"
          ]
        }
      ]
    },
    {
      "cell_type": "code",
      "source": [
        "filtered_df.to_csv(\"accountant_resumes.csv\", index=False)"
      ],
      "metadata": {
        "id": "b0mjUgwiQi98"
      },
      "execution_count": null,
      "outputs": []
    },
    {
      "cell_type": "code",
      "source": [
        "Account_Dataset=pd.read_csv(\"/content/accountant_resumes.csv\")\n",
        "Account_Dataset.head()\n",
        "Account_Dataset.columns"
      ],
      "metadata": {
        "colab": {
          "base_uri": "https://localhost:8080/"
        },
        "id": "lxxwOeNpQoDj",
        "outputId": "2ef3ad27-9398-4d12-c673-247c86d5e70c"
      },
      "execution_count": null,
      "outputs": [
        {
          "output_type": "execute_result",
          "data": {
            "text/plain": [
              "Index(['ID', 'Resume_str', 'Resume_html', 'Category'], dtype='object')"
            ]
          },
          "metadata": {},
          "execution_count": 20
        }
      ]
    },
    {
      "cell_type": "code",
      "source": [
        "# Increase column width so pandas doesn’t truncate long text\n",
        "pd.set_option('display.max_colwidth', None)\n",
        "\n",
        "# Select the row with that specific ID\n",
        "target_id = 15906625\n",
        "selected_row = Account_Dataset[Account_Dataset['ID'] == target_id]\n",
        "\n",
        "# Display the full details\n",
        "print(selected_row[['Resume_str', 'Resume_html', 'Category']])\n"
      ],
      "metadata": {
        "colab": {
          "base_uri": "https://localhost:8080/"
        },
        "id": "RadKXmM2Q3Jb",
        "outputId": "c54e5875-e1b8-423e-80a3-5669f7a17d51"
      },
      "execution_count": null,
      "outputs": [
        {
          "output_type": "stream",
          "name": "stdout",
          "text": [
            "                                                                                                                                                                                                                                                                                                                                                                                                                                                                                                                                                                                                                                                                                                                                                                                                                                                                                                                                                                                                                                                                                                                                                                                                                                                                                                                                                                                                                                                                                                                                                                                                                                                                                                                                                                                                                                                                                                                                                                                                                                                                                                                                                                                                                                                                                                                                                                                                                                                                                                                                                                                                                                                                                                                                                                                                                                                                                                                                                                                                                                                                                                                                                                                                                                                                                                                                                                                                                                                                                                                                                                                                                                                                                                                                                                                                                                                                                                                                                                                                                                                                                                                                                                                                                                                                                                                                                                                                                                                                                                                                                                                                                                                                                                                                                                                                                                                                                                                                                                                                                                                                                                                                                                                                                                                                                                                                                                                                                                                                                                                                                                                                                                                                                                                                                                                                                                                                                                                                                                                                                                                                                                                                                                                                                                                                                                                                                                                                                                                                                                                     Resume_str  \\\n",
            "0           ACCOUNTANT       Professional Summary     Current Accountant with the City of Alexandria with over 15 years experience in the accounting industry. Knowledge in governmental accounting procedures, financial statement preparation, general ledger activity, budget preparation & analysis, bank reconciliations, accounts payables & receivables, payroll, fixed assets, tax preparation & audit procedures.       Skills          15+ years of experience in Accounting & Bookkeeping Services  Financial statements, Bank reconciliations and General Ledger expertise  Flexible team player      Responsible, Concise & Detail Oriented  Microsoft Word, Excel, Access, PowerPoint, & Outlook expertise  Banner Finance, Xtender, Asset Keeper Pro & QuickBooks Software proficiency            Work History      Accountant     Aug 2013   -   Current      Company Name     City  ,   State       Help prepare Financial Statements and Bank Reconciliations.  Responsible for Accounts Payable & Fixed Assets for the City of Alexandria.  Perform accounts payable functions for governmental expenses.  Manage vendor accounts and prepare 1099s for contract labor.  Prepare, Record Journal Entries, & Reconcile Asset accounts, including surplus, depreciation expense, and the purchase, & addition of new assets.  Organize new asset tagging & yearly department assets counts.  Organize and carry out efficient month-end, quarterly and year-end processes.  Record journal entries and perform accounting on accrual basis for year end procedures.  Work closely with GOHSEP to gain reimbursement of expenses from Hurricanes Katrina, Rita, Gustav & Isaac.  Maintain integrity of general ledger, including chart of accounts.         Accountant     Aug 2009   -   Feb 2013      Company Name     City  ,   State       Preparation and Analysis of Hospital Financial Statements.  Investigate and resolve discrepancies in financial statements while under tight deadlines.  Compile general ledger entries on short time schedule with nearly 100% accuracy.  Analyze monthly balance sheet accounts &  record journal entries for corporate reporting.         Accountant     Jan 2006   -   Apr 2008      Company Name     City  ,   State       Prepare & File tax returns for individual, partnership, corporate, and tax exempt clients.  Prepare LLC & Corporate monthly payroll & Quarterly Reports.  Generate financial statements and facilitate account closing procedures each month.         Accountant     Jan 2003   -   Aug 2004      Company Name     City  ,   State       Prepare individual, partnership, corporate & fiduciary tax returns.  Audit governmental, for-profit and not for profit entities.  Uphold strict confidentiality protocols with all client details and tax return information.         Education      Bachelor  :   Accounting     2002      Northwestern State University of Louisiana     City  ,   State         Graduated Magna Cum Laude      Phi Kappa Phi Honor Society      CPAExcel Scholar      Dean's List for the entirety of College.      George H Rothschild Scholar      Alpha Lambda Delta Honor Society             Skills       Advanced bookkeeping skills    Accounting and bookkeeping    Financial statement analysis    Tax return filing    GAAP understanding    Bank reconciliations and balancing    Flexible team player    Microsoft Word, Excel, Access, PowerPoint, & Outlook      Asset Keeper Pro Software    QuickBooks Software    Fixed Asset Solutions Software    Creative Solutions Bookkeeping Software    HOST Software    Document Manager Software    ProSystem, UltraTax, and Lacerte Tax Preparation Software         Work History      Accountant     Aug 2013   -   Current      Company Name     City  ,   State         Help prepare Financial Statements and Bank Reconciliations.      Perform accounts payable functions for governmental expenses.      Manage financial departments with responsibility for Accounts Payable and Fixed Assets.      Manage vendor accounts and prepare 1099s for contract labor.      Reconcile Asset accounts and review all materials, including surplus, depreciation expense, and purchase and recording of new assets.      Organize and carried out efficient month-end, quarterly and year-end processes.      Provide journal entries and perform accounting on accrual basis for year end procedures.      Prepare documents and reports using advanced software proficiencies.      Generate and submit invoices based upon established financial schedules.      Maintain integrity of general ledger, including chart of accounts.      Partner with auditors to prepare yearly audits and ensure compliance with governmental tax guidelines.      Review & improve accounting systems and processes to meet business needs and maximize effectiveness of operations.      Review accounting structures and procedures on regular basis to identify areas in need of improvement.           Accountant     Aug 2009   -   Feb 2013      Company Name     City  ,   State         Preparation and Analysis of Hospital Financial Statements.      Responsible for Budget and Forecasts on Quarterly Basis.      Investigate and resolve discrepancies in financial statements while under tight deadlines.      Compiled general ledger entries on short schedule with nearly 100% accuracy.      Analyzed monthly balance sheet accounts for corporate reporting.           Accountant     Jan 2006   -   Apr 2008      Company Name     City  ,   State         Prepared & Filed tax returns for individual, partnership, corporate, and tax exempt clients.      Responsible for Budget and Forecasts on Quarterly Basis.      Prepared & Managed LLC & Corporate monthly payroll & Quarterly Reports.      Utilized accounting software to issue tax returns and prepare consolidated reports.      Generated financial statements and facilitated account closing procedures each month.           Accountant     Jan 2003   -   Aug 2004      Company Name     City  ,   State         Prepared individual, partnership, corporate & fiduciary tax returns.      Audited governmental, for-profit and not for profit entities.      Utilized accounting software to issue tax returns and prepare consolidated reports.      Upheld strict confidentiality protocols with all client details and tax return information.           \n",
            "\n",
            "                                                                                                                                                                                                                                                                                                                                                                                                                                                                                                                                                                                                                                                                                                                                                                                                                                                                                                                                                                                                                                                                                                                                                                                                                                                                                                                                                                                                                                                                                                                                                                                                                                                                                                                                                                                                                                                                                                                                                                                                                                                                                                                                                                                                                                                                                                                                                                                                                                                                                                                                                                                                                                                                                                                                                                                                                                                                                                                                                                                                                                                                                                                                                                                                                                                                                                                                                                                                                                                                                                                                                                                                                                                                                                                                                                                                                                                                                                                                                                                                                                                                                                                                                                                                                                                                                                                                                                                                                                                                                                                                                                                                                                                                                                                                                                                                                                                                                                                                                                                                                                                                                                                                                                                                                                                                                                                                                                                                                                                                                                                                                                                                                                                                                                                                                                                                                                                                                                                                                                                                                                                                                                                                                                                                                                                                                                                                                                                                                                                                                                                                                                                                                                                                                                                                                                                                                                                                                                                                                                                                                                                                                                                                                                                                                                                                                                                                                                                                                                                                                                                                                                                                                                                                                                                                                                                                                                                                                                                                                                                                                                                                                                                                                                                                                                                                                                                                                                                                                                                                                                                                                                                                                                                                                                                                                                                                                                                                                                                                                                                                                                                                                                                                                                                                                                                                                                                                                                                                                                                                                                                                                                                                                                                                                                                                                                                                                                                                                                                                                                                                                                                                                                                                                                                                                                                                                                                                                                                                                                                                                                                                                                                                                                                                                                                                                                                                                                                                                                                                                                                                                                                                                                                                                                                                                                                                                                                                                                                                                                                                                                                                                                                                                                                                                                                                                                                                                                                                                                                                                                                                                                                                                                                                                                                                                                                                                                                                                                                                                                                                                                                                                                                                                                                                                                                                                                                                                                                                                                                                                                                                                                                                                                                                                                                                                                                                                                                                                                                                                                                                                                                                                                                                                                                                                                                                                                                                                                                                                                                                                                                                                                                                                                                                                                                                                                                                                                                                                                                                                                                                                                                                                                                                                                                                                                                                                                                                                                                                                                                                                                                                                                                                                                                                                                                                                                                                                                                                                                                                                                                                                                                                                                                                                                                                                                                                                                                                                                                                                                                                                                                                                                                                                                                                                                                                                                                                                                                                                                                                                                                                                                                                                                                                                                                                                                                                                                                                                                                                                                                                                                                                                                                                                                                                                                                                                                                                                                                                                                                                                                                                                                                                                                                                                                                                                                                                                                                                                                                                                                                                                                                                                                                                                                                                                                                                                                                                                                                                                                                                                                                                                                                                                                                                                                                                                                                                                                                                                                                                                                                                                                                                                                                                                                                                                                                                                                                                                                                                                                                                                                                                                                                                                                                                                                                                                                                                                                                                                                                                                                                                                                                                                                                                                                                                                                                                                                                                                                                                                                                                                                                                                                                                                                                                                                                                                                                                                                                                                                                                                                                                                                                                                                                                                                                                                                                                                                                                                                                                                                                                                                                                                                                                                                                                                                                       Resume_html  \\\n",
            "0  <div class=\"fontsize fontface vmargins hmargins linespacing pagesize\" id=\"document\"> <div class=\"section firstsection\" id=\"SECTION_NAME3eec2190-096a-497b-a8aa-dcca0f7d66c9\" style=\"padding-top:NaNpx;\"> <div class=\"paragraph PARAGRAPH_NAME firstparagraph\" id=\"PARAGRAPH_3eec2190-096a-497b-a8aa-dcca0f7d66c9_1_13cf8620-f7a5-440d-ae48-1a40b6864d6b\" style=\"padding-top:NaNpx;\"> <div class=\"name\" itemprop=\"name\"> <span class=\"field\" id=\"3eec2190-096a-497b-a8aa-dcca0f7d66c9FNAM1\"> </span> <span> </span> <span class=\"field\" id=\"3eec2190-096a-497b-a8aa-dcca0f7d66c9LNAM1\"> ACCOUNTANT</span> </div> </div> </div> <div class=\"section\" id=\"SECTION_SUMM4eabfc07-7a48-4c13-8fc8-73a9ce12a830\" style=\"padding-top:NaNpx;\"> <div class=\"heading\"> <div class=\"sectiontitle\" id=\"SECTNAME_SUMM4eabfc07-7a48-4c13-8fc8-73a9ce12a830\"> Professional Summary</div> </div> <div class=\"paragraph firstparagraph\" id=\"PARAGRAPH_4eabfc07-7a48-4c13-8fc8-73a9ce12a830_1_cbc13f67-da24-40fd-b908-4505695c0c3c\" style=\"padding-top:0px;\"> <div class=\"field singlecolumn\" id=\"4eabfc07-7a48-4c13-8fc8-73a9ce12a830FRFM1\"> <p> Current Accountant with the City of Alexandria with over 15 years experience in the accounting industry. Knowledge in governmental accounting procedures, financial statement preparation, general ledger activity, budget preparation &amp; analysis, bank reconciliations, accounts payables &amp; receivables, payroll, fixed assets, tax preparation &amp; audit procedures.</p> </div> </div> </div> <div class=\"section\" id=\"SECTION_HILTea0a0ed1-2967-4160-a05b-73faf0f7ae5f\" style=\"padding-top:NaNpx;\"> <div class=\"heading\"> <div class=\"sectiontitle\" id=\"SECTNAME_HILTea0a0ed1-2967-4160-a05b-73faf0f7ae5f\"> Skills</div> </div> <div class=\"paragraph firstparagraph\" id=\"PARAGRAPH_ea0a0ed1-2967-4160-a05b-73faf0f7ae5f_1_49eae223-7bf8-4354-822f-bd4fe251c11d\" style=\"padding-top:0px;\"> <div class=\"singlecolumn maincolumn\"> <table class=\"twocol\"> <tbody> <tr> <td class=\"field twocol_1\" id=\"ea0a0ed1-2967-4160-a05b-73faf0f7ae5fSKC11\"> <ul> <li> 15+ years of experience in Accounting &amp; Bookkeeping Services</li> <li> Financial statements, Bank reconciliations and General Ledger expertise</li> <li> Flexible team player</li> </ul> </td> <td class=\"field twocol_2\" id=\"ea0a0ed1-2967-4160-a05b-73faf0f7ae5fSKC21\"> <ul> <li> Responsible, Concise &amp; Detail Oriented</li> <li> Microsoft Word, Excel, Access, PowerPoint, &amp; Outlook expertise</li> <li> Banner Finance, Xtender, Asset Keeper Pro &amp; QuickBooks Software proficiency</li> </ul> </td> </tr> </tbody> </table> </div> </div> </div> <div class=\"section\" id=\"SECTION_EXPRa3ebb576-7300-4332-a6a1-4329d85a73ad\" style=\"padding-top:NaNpx;\"> <div class=\"heading\"> <div class=\"sectiontitle\" id=\"SECTNAME_EXPRa3ebb576-7300-4332-a6a1-4329d85a73ad\"> Work History</div> </div> <div class=\"paragraph firstparagraph\" id=\"PARAGRAPH_a3ebb576-7300-4332-a6a1-4329d85a73ad_1_84bae805-1a5d-474c-9fb4-4ee9b999b405\" itemscope=\"\" itemtype=\"https://schema.org/Organization\" style=\"padding-top:0px;\"> <div class=\"singlecolumn\"> <span class=\"paddedline\" style=\"display: inline;\"> <span class=\"jobtitle\" id=\"a3ebb576-7300-4332-a6a1-4329d85a73adJTIT1\"> Accountant</span> <span> </span> <span class=\"datesWrapper\"> <span class=\"jobdates\" format=\"%b %Y\" id=\"a3ebb576-7300-4332-a6a1-4329d85a73adJSTD1\"> Aug 2013</span> <span class=\"jobdates\">  - </span> <span class=\"jobdates\" format=\"%b %Y\" id=\"a3ebb576-7300-4332-a6a1-4329d85a73adEDDT1\"> Current</span> </span> </span> <br/> <span class=\"paddedline\" itemscope=\"\" itemtype=\"https://schema.org/postalAddress\"> <span class=\"companyname\" id=\"a3ebb576-7300-4332-a6a1-4329d85a73adCOMP1\" itemprop=\"name\"> Company Name</span> <span> </span> <span class=\"datesWrapper\"> <span class=\"joblocation jobcity\" id=\"a3ebb576-7300-4332-a6a1-4329d85a73adJCIT1\" itemprop=\"addressLocality\"> City</span> <span> , </span> <span class=\"joblocation jobstate\" id=\"a3ebb576-7300-4332-a6a1-4329d85a73adJSTA1\" itemprop=\"addressRegion\"> State</span> <br/> </span> </span> <span class=\"jobline\" id=\"a3ebb576-7300-4332-a6a1-4329d85a73adJDES1\" itemprop=\"description\"> <ul> <li> Help prepare Financial Statements and Bank Reconciliations.</li> <li> Responsible for Accounts Payable &amp; Fixed Assets for the City of Alexandria.</li> <li> Perform accounts payable functions for governmental expenses.</li> <li> Manage vendor accounts and prepare 1099s for contract labor.</li> <li> Prepare, Record Journal Entries, &amp; Reconcile Asset accounts, including surplus, depreciation expense, and the purchase, &amp; addition of new assets.</li> <li> Organize new asset tagging &amp; yearly department assets counts.</li> <li> Organize and carry out efficient month-end, quarterly and year-end processes.</li> <li> Record journal entries and perform accounting on accrual basis for year end procedures.</li> <li> Work closely with GOHSEP to gain reimbursement of expenses from Hurricanes Katrina, Rita, Gustav &amp; Isaac.</li> <li> Maintain integrity of general ledger, including chart of accounts.</li> </ul> </span> </div> </div> <div class=\"paragraph\" id=\"PARAGRAPH_a3ebb576-7300-4332-a6a1-4329d85a73ad_2_017173c5-7777-40a4-b480-70a2a14fbf9b\" itemscope=\"\" itemtype=\"https://schema.org/Organization\" style=\"padding-top:0px;\"> <div class=\"singlecolumn\"> <span class=\"paddedline\" style=\"display: inline;\"> <span class=\"jobtitle\" id=\"a3ebb576-7300-4332-a6a1-4329d85a73adJTIT2\"> Accountant</span> <span> </span> <span class=\"datesWrapper\"> <span class=\"jobdates\" format=\"%b %Y\" id=\"a3ebb576-7300-4332-a6a1-4329d85a73adJSTD2\"> Aug 2009</span> <span class=\"jobdates\">  - </span> <span class=\"jobdates\" format=\"%b %Y\" id=\"a3ebb576-7300-4332-a6a1-4329d85a73adEDDT2\"> Feb 2013</span> </span> </span> <br/> <span class=\"paddedline\" itemscope=\"\" itemtype=\"https://schema.org/postalAddress\"> <span class=\"companyname\" id=\"a3ebb576-7300-4332-a6a1-4329d85a73adCOMP2\" itemprop=\"name\"> Company Name</span> <span> </span> <span class=\"datesWrapper\"> <span class=\"joblocation jobcity\" id=\"a3ebb576-7300-4332-a6a1-4329d85a73adJCIT2\" itemprop=\"addressLocality\"> City</span> <span> , </span> <span class=\"joblocation jobstate\" id=\"a3ebb576-7300-4332-a6a1-4329d85a73adJSTA2\" itemprop=\"addressRegion\"> State</span> <br/> </span> </span> <span class=\"jobline\" id=\"a3ebb576-7300-4332-a6a1-4329d85a73adJDES2\" itemprop=\"description\"> <ul> <li> Preparation and Analysis of Hospital Financial Statements.</li> <li> Investigate and resolve discrepancies in financial statements while under tight deadlines.</li> <li> Compile general ledger entries on short time schedule with nearly 100% accuracy.</li> <li> Analyze monthly balance sheet accounts &amp;  record journal entries for corporate reporting.</li> </ul> </span> </div> </div> <div class=\"paragraph\" id=\"PARAGRAPH_a3ebb576-7300-4332-a6a1-4329d85a73ad_3_e6f0cb01-de8d-475c-b7d4-d1e881f7c91e\" itemscope=\"\" itemtype=\"https://schema.org/Organization\" style=\"padding-top:0px;\"> <div class=\"singlecolumn\"> <span class=\"paddedline\" style=\"display: inline;\"> <span class=\"jobtitle\" id=\"a3ebb576-7300-4332-a6a1-4329d85a73adJTIT3\"> Accountant</span> <span> </span> <span class=\"datesWrapper\"> <span class=\"jobdates\" format=\"%b %Y\" id=\"a3ebb576-7300-4332-a6a1-4329d85a73adJSTD3\"> Jan 2006</span> <span class=\"jobdates\">  - </span> <span class=\"jobdates\" format=\"%b %Y\" id=\"a3ebb576-7300-4332-a6a1-4329d85a73adEDDT3\"> Apr 2008</span> </span> </span> <br/> <span class=\"paddedline\" itemscope=\"\" itemtype=\"https://schema.org/postalAddress\"> <span class=\"companyname\" id=\"a3ebb576-7300-4332-a6a1-4329d85a73adCOMP3\" itemprop=\"name\"> Company Name</span> <span> </span> <span class=\"datesWrapper\"> <span class=\"joblocation jobcity\" id=\"a3ebb576-7300-4332-a6a1-4329d85a73adJCIT3\" itemprop=\"addressLocality\"> City</span> <span> , </span> <span class=\"joblocation jobstate\" id=\"a3ebb576-7300-4332-a6a1-4329d85a73adJSTA3\" itemprop=\"addressRegion\"> State</span> <br/> </span> </span> <span class=\"jobline\" id=\"a3ebb576-7300-4332-a6a1-4329d85a73adJDES3\" itemprop=\"description\"> <ul> <li> Prepare &amp; File tax returns for individual, partnership, corporate, and tax exempt clients.</li> <li> Prepare LLC &amp; Corporate monthly payroll &amp; Quarterly Reports.</li> <li> Generate financial statements and facilitate account closing procedures each month.</li> </ul> </span> </div> </div> <div class=\"paragraph\" id=\"PARAGRAPH_a3ebb576-7300-4332-a6a1-4329d85a73ad_4_f821d821-afad-4ee9-b098-dda86e7c70ba\" itemscope=\"\" itemtype=\"https://schema.org/Organization\" style=\"padding-top:0px;\"> <div class=\"singlecolumn\"> <span class=\"paddedline\" style=\"display: inline;\"> <span class=\"jobtitle\" id=\"a3ebb576-7300-4332-a6a1-4329d85a73adJTIT4\"> Accountant</span> <span> </span> <span class=\"datesWrapper\"> <span class=\"jobdates\" format=\"%b %Y\" id=\"a3ebb576-7300-4332-a6a1-4329d85a73adJSTD4\"> Jan 2003</span> <span class=\"jobdates\">  - </span> <span class=\"jobdates\" format=\"%b %Y\" id=\"a3ebb576-7300-4332-a6a1-4329d85a73adEDDT4\"> Aug 2004</span> </span> </span> <br/> <span class=\"paddedline\" itemscope=\"\" itemtype=\"https://schema.org/postalAddress\"> <span class=\"companyname\" id=\"a3ebb576-7300-4332-a6a1-4329d85a73adCOMP4\" itemprop=\"name\"> Company Name</span> <span> </span> <span class=\"datesWrapper\"> <span class=\"joblocation jobcity\" id=\"a3ebb576-7300-4332-a6a1-4329d85a73adJCIT4\" itemprop=\"addressLocality\"> City</span> <span> , </span> <span class=\"joblocation jobstate\" id=\"a3ebb576-7300-4332-a6a1-4329d85a73adJSTA4\" itemprop=\"addressRegion\"> State</span> <br/> </span> </span> <span class=\"jobline\" id=\"a3ebb576-7300-4332-a6a1-4329d85a73adJDES4\" itemprop=\"description\"> <ul> <li> Prepare individual, partnership, corporate &amp; fiduciary tax returns.</li> <li> Audit governmental, for-profit and not for profit entities.</li> <li> Uphold strict confidentiality protocols with all client details and tax return information.</li> </ul> </span> </div> </div> </div> <div class=\"section\" id=\"SECTION_EDUC816d0a5c-1512-46cc-afbb-0b2a2e5bcfac\" style=\"padding-top:NaNpx;\"> <div class=\"heading\"> <div class=\"sectiontitle\" id=\"SECTNAME_EDUC816d0a5c-1512-46cc-afbb-0b2a2e5bcfac\"> Education</div> </div> <div class=\"paragraph firstparagraph\" id=\"PARAGRAPH_816d0a5c-1512-46cc-afbb-0b2a2e5bcfac_1_88a6edc3-45b5-4800-b21b-8e8eba51a746\" itemscope=\"\" itemtype=\"https://schema.org/EducationalOrganization\" style=\"padding-top:NaNpx;\"> <div class=\"singlecolumn\"> <span class=\"paddedline\" itemprop=\"description\"> <span class=\"degree\" id=\"816d0a5c-1512-46cc-afbb-0b2a2e5bcfacDGRE1\" itemprop=\"name\"> Bachelor</span> <span> : </span> <span class=\"programline\" id=\"816d0a5c-1512-46cc-afbb-0b2a2e5bcfacSTUY1\"> Accounting</span> <span> </span> <span class=\"datesWrapper\"> <span class=\"jobdates\" id=\"816d0a5c-1512-46cc-afbb-0b2a2e5bcfacGRYR1\"> 2002</span> </span> <br/> </span> <span class=\"paddedline\"> <span class=\"companyname companyname_educ\" id=\"816d0a5c-1512-46cc-afbb-0b2a2e5bcfacSCHO1\" itemprop=\"name\"> Northwestern State University of Louisiana</span> <span> </span> <span class=\"datesWrapper\"> <span class=\"joblocation jobcity\" id=\"816d0a5c-1512-46cc-afbb-0b2a2e5bcfacSCIT1\"> City</span> <span> , </span> <span class=\"joblocation jobstate\" id=\"816d0a5c-1512-46cc-afbb-0b2a2e5bcfacSSTA1\"> State</span> </span> <br/> </span> <span class=\"field\" id=\"816d0a5c-1512-46cc-afbb-0b2a2e5bcfacFRFM1\"> <ul> <li>   Graduated Magna Cum Laude  </li> <li>   Phi Kappa Phi Honor Society  </li> <li>   CPAExcel Scholar  </li> <li>   Dean's List for the entirety of College.  </li> <li>   George H Rothschild Scholar  </li> <li>   Alpha Lambda Delta Honor Society  </li> </ul> </span> </div> </div> </div> <div class=\"\" id=\"SECTION_PRFLccf260a2-2166-45d3-a633-f831db446a23\" style=\"padding-top:NaNpx;\"> </div> <div class=\"section\" id=\"SECTION_SKLLd8d9035d-dc68-464c-b53f-66e6463f8354\" style=\"padding-top:NaNpx;\"> <div class=\"heading\"> <div class=\"sectiontitle\" id=\"SECTNAME_SKLLd8d9035d-dc68-464c-b53f-66e6463f8354\"> Skills</div> </div> <div class=\"paragraph firstparagraph\" id=\"PARAGRAPH_d8d9035d-dc68-464c-b53f-66e6463f8354_1_e9eca721-75f1-4986-8e5d-078697e503fc\" style=\"padding-top:NaNpx;\"> <div class=\"field singlecolumn\" id=\"d8d9035d-dc68-464c-b53f-66e6463f8354FRFM1\"> <ul> <li>  Advanced bookkeeping skills </li> <li>  Accounting and bookkeeping </li> <li>  Financial statement analysis </li> <li>  Tax return filing </li> <li>  GAAP understanding </li> <li>  Bank reconciliations and balancing </li> <li>  Flexible team player </li> <li>  Microsoft Word, Excel, Access, PowerPoint, &amp; Outlook </li> </ul> <ul> <li>  Asset Keeper Pro Software </li> <li>  QuickBooks Software </li> <li>  Fixed Asset Solutions Software </li> <li>  Creative Solutions Bookkeeping Software </li> <li>  HOST Software </li> <li>  Document Manager Software </li> <li>  ProSystem, UltraTax, and Lacerte Tax Preparation Software </li> </ul> </div> </div> </div> <div class=\"section\" id=\"SECTION_WRKH77c460e0-6874-4039-b0ac-8c4977a66c1f\" style=\"padding-top:NaNpx;\"> <div class=\"heading\"> <div class=\"sectiontitle\" id=\"SECTNAME_WRKH77c460e0-6874-4039-b0ac-8c4977a66c1f\"> Work History</div> </div> <div class=\"paragraph firstparagraph\" id=\"PARAGRAPH_77c460e0-6874-4039-b0ac-8c4977a66c1f_1_493678e6-c129-4025-b1f8-ca22f85f51a2\" itemscope=\"\" itemtype=\"https://schema.org/Organization\" style=\"padding-top:NaNpx;\"> <div class=\"singlecolumn\"> <span class=\"paddedline\"> <span class=\"jobtitle\" id=\"77c460e0-6874-4039-b0ac-8c4977a66c1fJTIT1\"> Accountant</span> <span> </span> <span class=\"datesWrapper\"> <span class=\"jobdates\" format=\"%b %Y\" id=\"77c460e0-6874-4039-b0ac-8c4977a66c1fJSTD1\"> Aug 2013</span> <span class=\"jobdates\">  - </span> <span class=\"jobdates\" format=\"%b %Y\" id=\"77c460e0-6874-4039-b0ac-8c4977a66c1fEDDT1\"> Current</span> <br/> </span> </span> <span class=\"paddedline\" itemscope=\"\" itemtype=\"https://schema.org/postalAddress\"> <span class=\"companyname\" id=\"77c460e0-6874-4039-b0ac-8c4977a66c1fCOMP1\" itemprop=\"name\"> Company Name</span> <span> </span> <span class=\"datesWrapper\"> <span class=\"joblocation jobcity\" id=\"77c460e0-6874-4039-b0ac-8c4977a66c1fJCIT1\" itemprop=\"addressLocality\"> City</span> <span> , </span> <span class=\"joblocation jobstate\" id=\"77c460e0-6874-4039-b0ac-8c4977a66c1fJSTA1\" itemprop=\"addressRegion\"> State</span> <br/> </span> </span> <span class=\"jobline\" id=\"77c460e0-6874-4039-b0ac-8c4977a66c1fJDES1\" itemprop=\"description\"> <ul> <li>   Help prepare Financial Statements and Bank Reconciliations.  </li> <li>   Perform accounts payable functions for governmental expenses.  </li> <li>   Manage financial departments with responsibility for Accounts Payable and Fixed Assets.  </li> <li>   Manage vendor accounts and prepare 1099s for contract labor.  </li> <li>   Reconcile Asset accounts and review all materials, including surplus, depreciation expense, and purchase and recording of new assets.  </li> <li>   Organize and carried out efficient month-end, quarterly and year-end processes.  </li> <li>   Provide journal entries and perform accounting on accrual basis for year end procedures.  </li> <li>   Prepare documents and reports using advanced software proficiencies.  </li> <li>   Generate and submit invoices based upon established financial schedules.  </li> <li>   Maintain integrity of general ledger, including chart of accounts.  </li> <li>   Partner with auditors to prepare yearly audits and ensure compliance with governmental tax guidelines.  </li> <li>   Review &amp; improve accounting systems and processes to meet business needs and maximize effectiveness of operations.  </li> <li>   Review accounting structures and procedures on regular basis to identify areas in need of improvement.  </li> </ul> </span> </div> </div> <div class=\"paragraph\" id=\"PARAGRAPH_77c460e0-6874-4039-b0ac-8c4977a66c1f_2_35af333f-cb66-48b5-b84b-49d61a14c709\" itemscope=\"\" itemtype=\"https://schema.org/Organization\" style=\"padding-top:NaNpx;\"> <div class=\"singlecolumn\"> <span class=\"paddedline\"> <span class=\"jobtitle\" id=\"77c460e0-6874-4039-b0ac-8c4977a66c1fJTIT2\"> Accountant</span> <span> </span> <span class=\"datesWrapper\"> <span class=\"jobdates\" format=\"%b %Y\" id=\"77c460e0-6874-4039-b0ac-8c4977a66c1fJSTD2\"> Aug 2009</span> <span class=\"jobdates\">  - </span> <span class=\"jobdates\" format=\"%b %Y\" id=\"77c460e0-6874-4039-b0ac-8c4977a66c1fEDDT2\"> Feb 2013</span> <br/> </span> </span> <span class=\"paddedline\" itemscope=\"\" itemtype=\"https://schema.org/postalAddress\"> <span class=\"companyname\" id=\"77c460e0-6874-4039-b0ac-8c4977a66c1fCOMP2\" itemprop=\"name\"> Company Name</span> <span> </span> <span class=\"datesWrapper\"> <span class=\"joblocation jobcity\" id=\"77c460e0-6874-4039-b0ac-8c4977a66c1fJCIT2\" itemprop=\"addressLocality\"> City</span> <span> , </span> <span class=\"joblocation jobstate\" id=\"77c460e0-6874-4039-b0ac-8c4977a66c1fJSTA2\" itemprop=\"addressRegion\"> State</span> <br/> </span> </span> <span class=\"jobline\" id=\"77c460e0-6874-4039-b0ac-8c4977a66c1fJDES2\" itemprop=\"description\"> <ul> <li>   Preparation and Analysis of Hospital Financial Statements.  </li> <li>   Responsible for Budget and Forecasts on Quarterly Basis.  </li> <li>   Investigate and resolve discrepancies in financial statements while under tight deadlines.  </li> <li>   Compiled general ledger entries on short schedule with nearly 100% accuracy.  </li> <li>   Analyzed monthly balance sheet accounts for corporate reporting.  </li> </ul> </span> </div> </div> <div class=\"paragraph\" id=\"PARAGRAPH_77c460e0-6874-4039-b0ac-8c4977a66c1f_3_eb3dbb3f-7bd4-445d-abac-9a21a2eb339d\" itemscope=\"\" itemtype=\"https://schema.org/Organization\" style=\"padding-top:NaNpx;\"> <div class=\"singlecolumn\"> <span class=\"paddedline\"> <span class=\"jobtitle\" id=\"77c460e0-6874-4039-b0ac-8c4977a66c1fJTIT3\"> Accountant</span> <span> </span> <span class=\"datesWrapper\"> <span class=\"jobdates\" format=\"%b %Y\" id=\"77c460e0-6874-4039-b0ac-8c4977a66c1fJSTD3\"> Jan 2006</span> <span class=\"jobdates\">  - </span> <span class=\"jobdates\" format=\"%b %Y\" id=\"77c460e0-6874-4039-b0ac-8c4977a66c1fEDDT3\"> Apr 2008</span> <br/> </span> </span> <span class=\"paddedline\" itemscope=\"\" itemtype=\"https://schema.org/postalAddress\"> <span class=\"companyname\" id=\"77c460e0-6874-4039-b0ac-8c4977a66c1fCOMP3\" itemprop=\"name\"> Company Name</span> <span> </span> <span class=\"datesWrapper\"> <span class=\"joblocation jobcity\" id=\"77c460e0-6874-4039-b0ac-8c4977a66c1fJCIT3\" itemprop=\"addressLocality\"> City</span> <span> , </span> <span class=\"joblocation jobstate\" id=\"77c460e0-6874-4039-b0ac-8c4977a66c1fJSTA3\" itemprop=\"addressRegion\"> State</span> <br/> </span> </span> <span class=\"jobline\" id=\"77c460e0-6874-4039-b0ac-8c4977a66c1fJDES3\" itemprop=\"description\"> <ul> <li>   Prepared &amp; Filed tax returns for individual, partnership, corporate, and tax exempt clients.  </li> <li>   Responsible for Budget and Forecasts on Quarterly Basis.  </li> <li>   Prepared &amp; Managed LLC &amp; Corporate monthly payroll &amp; Quarterly Reports.  </li> <li>   Utilized accounting software to issue tax returns and prepare consolidated reports.  </li> <li>   Generated financial statements and facilitated account closing procedures each month.  </li> </ul> </span> </div> </div> <div class=\"paragraph\" id=\"PARAGRAPH_77c460e0-6874-4039-b0ac-8c4977a66c1f_4_45a2dc9c-a255-40f4-ab02-9d151ff08d4b\" itemscope=\"\" itemtype=\"https://schema.org/Organization\" style=\"padding-top:NaNpx;\"> <div class=\"singlecolumn\"> <span class=\"paddedline\"> <span class=\"jobtitle\" id=\"77c460e0-6874-4039-b0ac-8c4977a66c1fJTIT4\"> Accountant</span> <span> </span> <span class=\"datesWrapper\"> <span class=\"jobdates\" format=\"%b %Y\" id=\"77c460e0-6874-4039-b0ac-8c4977a66c1fJSTD4\"> Jan 2003</span> <span class=\"jobdates\">  - </span> <span class=\"jobdates\" format=\"%b %Y\" id=\"77c460e0-6874-4039-b0ac-8c4977a66c1fEDDT4\"> Aug 2004</span> <br/> </span> </span> <span class=\"paddedline\" itemscope=\"\" itemtype=\"https://schema.org/postalAddress\"> <span class=\"companyname\" id=\"77c460e0-6874-4039-b0ac-8c4977a66c1fCOMP4\" itemprop=\"name\"> Company Name</span> <span> </span> <span class=\"datesWrapper\"> <span class=\"joblocation jobcity\" id=\"77c460e0-6874-4039-b0ac-8c4977a66c1fJCIT4\" itemprop=\"addressLocality\"> City</span> <span> , </span> <span class=\"joblocation jobstate\" id=\"77c460e0-6874-4039-b0ac-8c4977a66c1fJSTA4\" itemprop=\"addressRegion\"> State</span> <br/> </span> </span> <span class=\"jobline\" id=\"77c460e0-6874-4039-b0ac-8c4977a66c1fJDES4\" itemprop=\"description\"> <ul> <li>   Prepared individual, partnership, corporate &amp; fiduciary tax returns.  </li> <li>   Audited governmental, for-profit and not for profit entities.  </li> <li>   Utilized accounting software to issue tax returns and prepare consolidated reports.  </li> <li>   Upheld strict confidentiality protocols with all client details and tax return information.  </li> </ul> </span> </div> </div> </div> </div>   \n",
            "\n",
            "     Category  \n",
            "0  ACCOUNTANT  \n"
          ]
        }
      ]
    },
    {
      "cell_type": "code",
      "source": [
        "#ARTS"
      ],
      "metadata": {
        "id": "zOLtafDpRwkL"
      },
      "execution_count": null,
      "outputs": []
    },
    {
      "cell_type": "code",
      "source": [
        "import os\n",
        "import pandas as pd\n",
        "\n",
        "# Define paths\n",
        "base_path = \"/content/resume-dataset\"\n",
        "csv_path = os.path.join(base_path, \"Resume\", \"Resume.csv\")\n",
        "pdf_folder_path = os.path.join(base_path, \"data\", \"data\", \"FINANCE\")\n",
        "\n",
        "# Load the CSV\n",
        "df = pd.read_csv(csv_path)\n",
        "\n",
        "# List all PDFs in the ACCOUNTANT folder (strip '.pdf' to get IDs)\n",
        "pdf_files = os.listdir(pdf_folder_path)\n",
        "pdf_ids = [int(filename.replace('.pdf', '')) for filename in pdf_files if filename.endswith('.pdf')]\n",
        "\n",
        "print(f\"Total PDFs in ARTS folder: {len(pdf_ids)}\")"
      ],
      "metadata": {
        "colab": {
          "base_uri": "https://localhost:8080/"
        },
        "id": "Kn3raEe0aoWY",
        "outputId": "0db85492-6ab9-4940-a076-6906392bb960"
      },
      "execution_count": null,
      "outputs": [
        {
          "output_type": "stream",
          "name": "stdout",
          "text": [
            "Total PDFs in ARTS folder: 118\n"
          ]
        }
      ]
    },
    {
      "cell_type": "code",
      "source": [
        "# Filter the dataframe where ID exists in the PDF folder\n",
        "filtered_df = df[df['ID'].isin(pdf_ids) & (df['Category'] == 'ACCOUNTANT')]\n",
        "\n",
        "print(f\"Filtered resumes for ACCOUNTANT: {len(filtered_df)}\")\n",
        "print(filtered_df.head())"
      ],
      "metadata": {
        "colab": {
          "base_uri": "https://localhost:8080/"
        },
        "id": "MjlVxJYhatAK",
        "outputId": "2149c13d-be5e-4d97-d4d1-b59709963619"
      },
      "execution_count": null,
      "outputs": [
        {
          "output_type": "stream",
          "name": "stdout",
          "text": [
            "Filtered resumes for ACCOUNTANT: 0\n",
            "Empty DataFrame\n",
            "Columns: [ID, Resume_str, Resume_html, Category]\n",
            "Index: []\n"
          ]
        }
      ]
    },
    {
      "cell_type": "code",
      "source": [
        "filtered_df.to_csv(\"Finance_resumes.csv\", index=False)"
      ],
      "metadata": {
        "id": "UrcTgAAmaxhc"
      },
      "execution_count": null,
      "outputs": []
    },
    {
      "cell_type": "code",
      "source": [
        "arts=pd.read_csv(\"/content/Finance_resumes.csv\")"
      ],
      "metadata": {
        "id": "vuitMpR0bLYR"
      },
      "execution_count": null,
      "outputs": []
    },
    {
      "cell_type": "code",
      "source": [
        "arts.columns"
      ],
      "metadata": {
        "colab": {
          "base_uri": "https://localhost:8080/"
        },
        "id": "hj7utSSIa2fk",
        "outputId": "6210d09e-1eed-4baf-dd1b-562fc4a3be0e"
      },
      "execution_count": null,
      "outputs": [
        {
          "output_type": "execute_result",
          "data": {
            "text/plain": [
              "Index(['ID', 'Resume_str', 'Resume_html', 'Category'], dtype='object')"
            ]
          },
          "metadata": {},
          "execution_count": 43
        }
      ]
    },
    {
      "cell_type": "code",
      "source": [
        "arts.head()"
      ],
      "metadata": {
        "colab": {
          "base_uri": "https://localhost:8080/",
          "height": 53
        },
        "id": "A1lQlZ-yc4Au",
        "outputId": "b7534d69-0bf4-43fc-be4d-1de94202b76c"
      },
      "execution_count": null,
      "outputs": [
        {
          "output_type": "execute_result",
          "data": {
            "text/plain": [
              "Empty DataFrame\n",
              "Columns: [ID, Resume_str, Resume_html, Category]\n",
              "Index: []"
            ],
            "text/html": [
              "\n",
              "  <div id=\"df-c39dda8b-af76-439c-b197-376612402199\" class=\"colab-df-container\">\n",
              "    <div>\n",
              "<style scoped>\n",
              "    .dataframe tbody tr th:only-of-type {\n",
              "        vertical-align: middle;\n",
              "    }\n",
              "\n",
              "    .dataframe tbody tr th {\n",
              "        vertical-align: top;\n",
              "    }\n",
              "\n",
              "    .dataframe thead th {\n",
              "        text-align: right;\n",
              "    }\n",
              "</style>\n",
              "<table border=\"1\" class=\"dataframe\">\n",
              "  <thead>\n",
              "    <tr style=\"text-align: right;\">\n",
              "      <th></th>\n",
              "      <th>ID</th>\n",
              "      <th>Resume_str</th>\n",
              "      <th>Resume_html</th>\n",
              "      <th>Category</th>\n",
              "    </tr>\n",
              "  </thead>\n",
              "  <tbody>\n",
              "  </tbody>\n",
              "</table>\n",
              "</div>\n",
              "    <div class=\"colab-df-buttons\">\n",
              "\n",
              "  <div class=\"colab-df-container\">\n",
              "    <button class=\"colab-df-convert\" onclick=\"convertToInteractive('df-c39dda8b-af76-439c-b197-376612402199')\"\n",
              "            title=\"Convert this dataframe to an interactive table.\"\n",
              "            style=\"display:none;\">\n",
              "\n",
              "  <svg xmlns=\"http://www.w3.org/2000/svg\" height=\"24px\" viewBox=\"0 -960 960 960\">\n",
              "    <path d=\"M120-120v-720h720v720H120Zm60-500h600v-160H180v160Zm220 220h160v-160H400v160Zm0 220h160v-160H400v160ZM180-400h160v-160H180v160Zm440 0h160v-160H620v160ZM180-180h160v-160H180v160Zm440 0h160v-160H620v160Z\"/>\n",
              "  </svg>\n",
              "    </button>\n",
              "\n",
              "  <style>\n",
              "    .colab-df-container {\n",
              "      display:flex;\n",
              "      gap: 12px;\n",
              "    }\n",
              "\n",
              "    .colab-df-convert {\n",
              "      background-color: #E8F0FE;\n",
              "      border: none;\n",
              "      border-radius: 50%;\n",
              "      cursor: pointer;\n",
              "      display: none;\n",
              "      fill: #1967D2;\n",
              "      height: 32px;\n",
              "      padding: 0 0 0 0;\n",
              "      width: 32px;\n",
              "    }\n",
              "\n",
              "    .colab-df-convert:hover {\n",
              "      background-color: #E2EBFA;\n",
              "      box-shadow: 0px 1px 2px rgba(60, 64, 67, 0.3), 0px 1px 3px 1px rgba(60, 64, 67, 0.15);\n",
              "      fill: #174EA6;\n",
              "    }\n",
              "\n",
              "    .colab-df-buttons div {\n",
              "      margin-bottom: 4px;\n",
              "    }\n",
              "\n",
              "    [theme=dark] .colab-df-convert {\n",
              "      background-color: #3B4455;\n",
              "      fill: #D2E3FC;\n",
              "    }\n",
              "\n",
              "    [theme=dark] .colab-df-convert:hover {\n",
              "      background-color: #434B5C;\n",
              "      box-shadow: 0px 1px 3px 1px rgba(0, 0, 0, 0.15);\n",
              "      filter: drop-shadow(0px 1px 2px rgba(0, 0, 0, 0.3));\n",
              "      fill: #FFFFFF;\n",
              "    }\n",
              "  </style>\n",
              "\n",
              "    <script>\n",
              "      const buttonEl =\n",
              "        document.querySelector('#df-c39dda8b-af76-439c-b197-376612402199 button.colab-df-convert');\n",
              "      buttonEl.style.display =\n",
              "        google.colab.kernel.accessAllowed ? 'block' : 'none';\n",
              "\n",
              "      async function convertToInteractive(key) {\n",
              "        const element = document.querySelector('#df-c39dda8b-af76-439c-b197-376612402199');\n",
              "        const dataTable =\n",
              "          await google.colab.kernel.invokeFunction('convertToInteractive',\n",
              "                                                    [key], {});\n",
              "        if (!dataTable) return;\n",
              "\n",
              "        const docLinkHtml = 'Like what you see? Visit the ' +\n",
              "          '<a target=\"_blank\" href=https://colab.research.google.com/notebooks/data_table.ipynb>data table notebook</a>'\n",
              "          + ' to learn more about interactive tables.';\n",
              "        element.innerHTML = '';\n",
              "        dataTable['output_type'] = 'display_data';\n",
              "        await google.colab.output.renderOutput(dataTable, element);\n",
              "        const docLink = document.createElement('div');\n",
              "        docLink.innerHTML = docLinkHtml;\n",
              "        element.appendChild(docLink);\n",
              "      }\n",
              "    </script>\n",
              "  </div>\n",
              "\n",
              "\n",
              "    </div>\n",
              "  </div>\n"
            ],
            "application/vnd.google.colaboratory.intrinsic+json": {
              "type": "dataframe",
              "variable_name": "arts",
              "repr_error": "Out of range float values are not JSON compliant: nan"
            }
          },
          "metadata": {},
          "execution_count": 44
        }
      ]
    },
    {
      "cell_type": "code",
      "source": [
        "import pandas as pd\n",
        "\n",
        "# Load both CSV files\n",
        "df1 = pd.read_csv('/content/accountant_resumes.csv')    # Replace with your actual file name\n",
        "df2 = pd.read_csv('/content/arts_resumes.csv')   # Replace with your actual file name\n",
        "\n",
        "# Vertically merge the two DataFrames\n",
        "merged_df = pd.concat([df1, df2], ignore_index=True)\n",
        "\n",
        "# Remove duplicates based on 'ID'\n",
        "merged_df = merged_df.drop_duplicates(subset='ID', keep='first')\n",
        "\n",
        "# Save the merged result to a new CSV file\n",
        "merged_df.to_csv('final_resumes.csv', index=False)\n",
        "\n",
        "print(\"Merged CSV created successfully!\")\n",
        "print(\"Shape of merged DataFrame:\", merged_df.shape)\n"
      ],
      "metadata": {
        "colab": {
          "base_uri": "https://localhost:8080/"
        },
        "id": "UllHziaebKpp",
        "outputId": "cc529865-3f08-4b48-af9f-34bcde30f61b"
      },
      "execution_count": null,
      "outputs": [
        {
          "output_type": "stream",
          "name": "stdout",
          "text": [
            "Merged CSV created successfully!\n",
            "Shape of merged DataFrame: (118, 4)\n"
          ]
        }
      ]
    },
    {
      "cell_type": "code",
      "source": [
        "merged=pd.read_csv(\"/content/final_resumes.csv\")"
      ],
      "metadata": {
        "id": "5m2IsSuHcpEA"
      },
      "execution_count": null,
      "outputs": []
    },
    {
      "cell_type": "code",
      "source": [
        "y = merged[\"Category\"].unique()\n"
      ],
      "metadata": {
        "id": "MJgwX_6xbzi9"
      },
      "execution_count": null,
      "outputs": []
    },
    {
      "cell_type": "code",
      "source": [
        "print(y)"
      ],
      "metadata": {
        "colab": {
          "base_uri": "https://localhost:8080/"
        },
        "id": "AzZE-ODxcx9v",
        "outputId": "0386504b-6d74-4dd7-e9ec-357229a19d7b"
      },
      "execution_count": null,
      "outputs": [
        {
          "output_type": "stream",
          "name": "stdout",
          "text": [
            "['ACCOUNTANT']\n"
          ]
        }
      ]
    },
    {
      "cell_type": "code",
      "source": [
        "file=pd.read_csv(\"/content/resume-dataset/Resume/Resume.csv\")\n",
        "category_counts = file['Category'].value_counts()\n",
        "\n",
        "print(category_counts)"
      ],
      "metadata": {
        "colab": {
          "base_uri": "https://localhost:8080/"
        },
        "id": "k462AGCAega5",
        "outputId": "e6fcc7f8-c28a-4dde-9614-a464a2ccfc9c"
      },
      "execution_count": null,
      "outputs": [
        {
          "output_type": "stream",
          "name": "stdout",
          "text": [
            "Category\n",
            "INFORMATION-TECHNOLOGY    120\n",
            "BUSINESS-DEVELOPMENT      120\n",
            "ADVOCATE                  118\n",
            "CHEF                      118\n",
            "ENGINEERING               118\n",
            "ACCOUNTANT                118\n",
            "FINANCE                   118\n",
            "FITNESS                   117\n",
            "AVIATION                  117\n",
            "SALES                     116\n",
            "BANKING                   115\n",
            "HEALTHCARE                115\n",
            "CONSULTANT                115\n",
            "CONSTRUCTION              112\n",
            "PUBLIC-RELATIONS          111\n",
            "HR                        110\n",
            "DESIGNER                  107\n",
            "ARTS                      103\n",
            "TEACHER                   102\n",
            "APPAREL                    97\n",
            "DIGITAL-MEDIA              96\n",
            "AGRICULTURE                63\n",
            "AUTOMOBILE                 36\n",
            "BPO                        22\n",
            "Name: count, dtype: int64\n"
          ]
        }
      ]
    },
    {
      "cell_type": "code",
      "source": [
        "#let begain\n",
        "\n",
        "account_df=pd.read_csv()"
      ],
      "metadata": {
        "id": "GCPVDBuMczGi"
      },
      "execution_count": null,
      "outputs": []
    },
    {
      "cell_type": "code",
      "source": [
        "import pandas as pd\n",
        "\n",
        "# Load the full resume dataset\n",
        "df = pd.read_csv(\"/content/resume-dataset/Resume/Resume.csv\")\n",
        "\n",
        "# Filter for ACCOUNTANT and FINANCE categories\n",
        "filtered_df = df[df[\"Category\"].isin([\"ACCOUNTANT\", \"FINANCE\"])]\n",
        "\n",
        "# Save the filtered dataset\n",
        "filtered_df.to_csv(\"finance_accountant_resumes.csv\", index=False)\n",
        "\n",
        "print(\"✅ Filtered dataset with ACCOUNTANT and FINANCE categories saved as 'finance_accountant_resumes.csv'\")\n",
        "print(filtered_df[\"Category\"].value_counts())\n"
      ],
      "metadata": {
        "id": "fBTUm5vWfZPn",
        "outputId": "cfa99c10-60b3-4d5a-f562-eb25393b9820",
        "colab": {
          "base_uri": "https://localhost:8080/"
        }
      },
      "execution_count": null,
      "outputs": [
        {
          "output_type": "stream",
          "name": "stdout",
          "text": [
            "✅ Filtered dataset with ACCOUNTANT and FINANCE categories saved as 'finance_accountant_resumes.csv'\n",
            "Category\n",
            "FINANCE       118\n",
            "ACCOUNTANT    118\n",
            "Name: count, dtype: int64\n"
          ]
        }
      ]
    },
    {
      "cell_type": "code",
      "source": [],
      "metadata": {
        "id": "dwMaBbxofZpD"
      },
      "execution_count": null,
      "outputs": []
    }
  ]
}